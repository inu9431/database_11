{
 "cells": [
  {
   "cell_type": "code",
   "execution_count": 42,
   "id": "4327f904",
   "metadata": {},
   "outputs": [
    {
     "name": "stdout",
     "output_type": "stream",
     "text": [
      "Data inserted successfully\n"
     ]
    }
   ],
   "source": [
    "from pymongo import MongoClient\n",
    "\n",
    "def insert_data():\n",
    "    client = MongoClient('mongodb://localhost:27017/')\n",
    "    db = client.local  # 'local' 데이터베이스 사용\n",
    "\n",
    "    # 책 데이터 삽입\n",
    "    books = [\n",
    "        {\"title\": \"Kafka on the Shore\", \"author\": \"Haruki Murakami\", \"year\": 2002},\n",
    "        {\"title\": \"Norwegian Wood\", \"author\": \"Haruki Murakami\", \"year\": 1987},\n",
    "        {\"title\": \"1Q84\", \"author\": \"Haruki Murakami\", \"year\": 2009}\n",
    "    ]\n",
    "    db.books.insert_many(books)\n",
    "\n",
    "    # 영화 데이터 삽입\n",
    "    movies = [\n",
    "        {\"title\": \"Inception\", \"director\": \"Christopher Nolan\", \"year\": 2010, \"rating\": 8.8},\n",
    "        {\"title\": \"Interstellar\", \"director\": \"Christopher Nolan\", \"year\": 2014, \"rating\": 8.6},\n",
    "        {\"title\": \"The Dark Knight\", \"director\": \"Christopher Nolan\", \"year\": 2008, \"rating\": 9.0}\n",
    "    ]\n",
    "    db.movies.insert_many(movies)\n",
    "\n",
    "    # 사용자 행동 데이터 삽입\n",
    "    user_actions = [\n",
    "        {\"user_id\": 1, \"action\": \"click\", \"timestamp\": \"2023-04-12T08:00:00Z\"},\n",
    "        {\"user_id\": 1, \"action\": \"view\", \"timestamp\": \"2023-04-12T09:00:00Z\"},\n",
    "        {\"user_id\": 2, \"action\": \"purchase\", \"timestamp\": \"2023-04-12T10:00:00Z\"}\n",
    "    ]\n",
    "    db.user_actions.insert_many(user_actions)\n",
    "\n",
    "    print(\"Data inserted successfully\")\n",
    "    client.close()\n",
    "\n",
    "if __name__ == \"__main__\":\n",
    "    insert_data()\n"
   ]
  },
  {
   "cell_type": "code",
   "execution_count": 54,
   "id": "eb0f21b2",
   "metadata": {},
   "outputs": [],
   "source": [
    "from pymongo import MongoClient\n",
    "client =MongoClient('mongodb://localhost:27017/')\n",
    "db = client.local\n",
    "books_collection = db.books\n",
    "\n",
    "books = [\n",
    "        {\"title\": \"Kafka on the Shore\", \"author\": \"Haruki Murakami\", \"year\": 2002},\n",
    "        {\"title\": \"Norwegian Wood\", \"author\": \"Haruki Murakami\", \"year\": 1987},\n",
    "        {\"title\": \"1Q84\", \"author\": \"Haruki Murakami\", \"year\": 2009}\n",
    "    ]\n",
    "db.books.insert_many(books)\n",
    "\n",
    "\n",
    "def find_fantasy_books(db,genre):\n",
    "    books_collection =db.books\n",
    "    query = {\"genre\": genre}\n",
    "    projection ={\"_id\":0,\"title\":1,\"author\":1}\n",
    "\n",
    "    books = books_collection.find(query,projection)\n",
    "    for book in books:\n",
    "        print(book)\n",
    "\n",
    "find_fantasy_books(db,\"fantasy\")"
   ]
  },
  {
   "cell_type": "code",
   "execution_count": 55,
   "id": "7cd58b6f",
   "metadata": {},
   "outputs": [
    {
     "name": "stdout",
     "output_type": "stream",
     "text": [
      "{'_id': 'Christopher Nolan', 'avgrating': 8.799999999999999}\n"
     ]
    }
   ],
   "source": [
    "clinet = MongoClient('mongodb://localhost:27017/')\n",
    "db = client.local\n",
    "movies_collection = db.movies\n",
    "    \n",
    "def rating_avg(db):\n",
    "    movies_collection = db.movies\n",
    "    pipeline =[ {\"$group\":{\"_id\":\"$director\",\"avgrating\":{\"$avg\":\"$rating\"}}},\n",
    "{\"$sort\":{\"avgrating\":-1}}\n",
    "    ]\n",
    "    results = movies_collection.aggregate(pipeline)\n",
    "    for result in results:\n",
    "        print(result)\n",
    "rating_avg(db)"
   ]
  },
  {
   "cell_type": "code",
   "execution_count": 56,
   "id": "a60c2683",
   "metadata": {},
   "outputs": [
    {
     "name": "stdout",
     "output_type": "stream",
     "text": [
      "{'_id': ObjectId('6821eea71d123b32c164e8dc'), 'user_id': 1, 'action': 'seen', 'timestamp': datetime.datetime(2023, 4, 9, 9, 0)}\n",
      "{'_id': ObjectId('6821eea71d123b32c164e8db'), 'user_id': 1, 'action': 'click', 'timestamp': datetime.datetime(2023, 4, 8, 8, 0)}\n"
     ]
    }
   ],
   "source": [
    "actions_collection = db.user_actions\n",
    "def get_recent_actions(user_id,limit=5):\n",
    "    pipeline =[\n",
    "        {\"$match\":{\"user_id\": user_id}},\n",
    "        {\"$sort\":{\"timestamp\":-1}},\n",
    "        {\"$limit\": limit}\n",
    "    ]\n",
    "    results =actions_collection.aggregate(pipeline)\n",
    "    for result in results:\n",
    "        print(result)\n",
    "\n",
    "get_recent_actions(1)"
   ]
  },
  {
   "cell_type": "code",
   "execution_count": 57,
   "id": "4194cad2",
   "metadata": {},
   "outputs": [
    {
     "name": "stdout",
     "output_type": "stream",
     "text": [
      "{'_id': 1987, 'book_count': 16}\n",
      "{'_id': 2009, 'book_count': 16}\n",
      "{'_id': 2002, 'book_count': 16}\n"
     ]
    }
   ],
   "source": [
    "books = [\n",
    "        {\"title\": \"Kafka on the Shore\", \"author\": \"Haruki Murakami\", \"year\": 2002},\n",
    "        {\"title\": \"Norwegian Wood\", \"author\": \"Haruki Murakami\", \"year\": 1987},\n",
    "        {\"title\": \"1Q84\", \"author\": \"Haruki Murakami\", \"year\": 2009}\n",
    "    ]\n",
    "db.books.insert_many(books)\n",
    "\n",
    "\n",
    "def get_books_by_year(db):\n",
    "    books_collection = db.books\n",
    "    pipeline = [ {\"$group\":{\n",
    "        \"_id\" : \"$year\",\n",
    "        \"book_count\":{\"$sum\":1}\n",
    "    }},\n",
    "    {\"$sort\":{\"book_count\":-1}}\n",
    "    ]\n",
    "    results = books_collection.aggregate(pipeline)\n",
    "    for result in results:\n",
    "        print(result)\n",
    "\n",
    "get_books_by_year(db)"
   ]
  },
  {
   "cell_type": "code",
   "execution_count": 58,
   "id": "157cd4bd",
   "metadata": {},
   "outputs": [
    {
     "name": "stdout",
     "output_type": "stream",
     "text": [
      "matched: 1, modified: 1\n"
     ]
    }
   ],
   "source": [
    "from pymongo import MongoClient\n",
    "from datetime import datetime\n",
    "\n",
    "\n",
    "client = MongoClient('mongodb://localhost:27017/')\n",
    "db = client.local\n",
    "\n",
    "\n",
    "db.user_actions.delete_many({})\n",
    "\n",
    "\n",
    "user_actions = [\n",
    "    {\"user_id\": 1, \"action\": \"click\", \"timestamp\": datetime(2023, 4, 8, 8, 0)},\n",
    "    {\"user_id\": 1, \"action\": \"view\",  \"timestamp\": datetime(2023, 4, 9, 9, 0)},\n",
    "    {\"user_id\": 2, \"action\": \"purchase\", \"timestamp\": datetime(2023, 4, 12, 10, 0)}\n",
    "]\n",
    "db.user_actions.insert_many(user_actions)\n",
    "\n",
    "\n",
    "def update_user_actions(db, user_id, before_date, old_action, new_action):\n",
    "    user_actions = db.user_actions\n",
    "    query = {\n",
    "        \"user_id\": user_id,\n",
    "        \"action\": old_action,\n",
    "        \"timestamp\": {\"$lt\": before_date}\n",
    "    }\n",
    "    update = {\n",
    "        \"$set\": {\"action\": new_action}\n",
    "    }\n",
    "    result = user_actions.update_many(query, update)\n",
    "    print(f\"matched: {result.matched_count}, modified: {result.modified_count}\")\n",
    "\n",
    "\n",
    "update_user_actions(db, 1, datetime(2023, 4, 10), \"view\", \"seen\")\n"
   ]
  }
 ],
 "metadata": {
  "kernelspec": {
   "display_name": "Python 3",
   "language": "python",
   "name": "python3"
  },
  "language_info": {
   "codemirror_mode": {
    "name": "ipython",
    "version": 3
   },
   "file_extension": ".py",
   "mimetype": "text/x-python",
   "name": "python",
   "nbconvert_exporter": "python",
   "pygments_lexer": "ipython3",
   "version": "3.10.17"
  }
 },
 "nbformat": 4,
 "nbformat_minor": 5
}
